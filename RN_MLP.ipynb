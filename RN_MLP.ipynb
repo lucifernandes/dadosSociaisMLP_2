{
  "nbformat": 4,
  "nbformat_minor": 0,
  "metadata": {
    "colab": {
      "name": "RN - MLP.ipynb",
      "provenance": [],
      "mount_file_id": "1NLBf6BMRhibH1I3S8vne3Xdvld6u3FUp",
      "authorship_tag": "ABX9TyPq9bvK3vahKtZcjAZzLbQE",
      "include_colab_link": true
    },
    "kernelspec": {
      "name": "python3",
      "display_name": "Python 3"
    }
  },
  "cells": [
    {
      "cell_type": "markdown",
      "metadata": {
        "id": "view-in-github",
        "colab_type": "text"
      },
      "source": [
        "<a href=\"https://colab.research.google.com/github/lucifernandes/dadosSociaisMLP_2/blob/master/RN_MLP.ipynb\" target=\"_parent\"><img src=\"https://colab.research.google.com/assets/colab-badge.svg\" alt=\"Open In Colab\"/></a>"
      ]
    },
    {
      "cell_type": "code",
      "metadata": {
        "id": "zzGb8qrIaGzX",
        "colab_type": "code",
        "colab": {}
      },
      "source": [
        "import numpy as np\n",
        "import pandas as pd\n",
        "from sklearn.neural_network import MLPClassifier\n",
        "from sklearn.model_selection import train_test_split\n",
        "from sklearn.preprocessing import StandardScaler\n",
        "from sklearn.metrics import classification_report, confusion_matrix, accuracy_score\n",
        "from sklearn.model_selection import KFold\n",
        "\n",
        "base0 = pd.read_csv('/content/base_v1.csv', sep=',', decimal=',')\n",
        "\n",
        "#Excluindo amostras com valores nulos\n",
        "base = base0.dropna(how=\"any\")               \n",
        "\n",
        "#------------------------------- índice Autoritarismo ------------------------------------------------\n",
        "\n",
        "#Sentenças do 4º bloco do questionário\n",
        "baseI = base.loc[:,['INV1p45a', 'INV1p45b', 'INV1p45c', 'INV1p45d', 'INV1p45e', 'INV1p45f', 'INV1p45g', 'INV1p45h', 'INV1p45i', 'INV1p45j', 'INV1p45k',\n",
        "                   'INV1p45l', 'INV1p45m', 'INV1p45n', 'INV1p45o', 'INV1p45p', 'INV1p45q']]   \n",
        "#Adicionando à base a coluna 'IndAuto' com os valores dos índices de cada amostra                   \n",
        "base['IndAuto'] = baseI.mean(axis=1) \n",
        "#Cálculo do índice médio  \n",
        "media = base['IndAuto'].mean(axis=0)\n",
        "#Para valores abaixo ou igual a média, recebem valor 1. Para valores acima da média, recebem valor 2\n",
        "base.loc[base['IndAuto'] <= media] = 1\n",
        "base.loc[base['IndAuto'] > media] = 2\n",
        "\n",
        "#-------------------------------- Entrada ---------------------------------------\n",
        "X = base.drop(columns=['IndAuto','INV1p45a', 'INV1p45b', 'INV1p45c', 'INV1p45d', 'INV1p45e', 'INV1p45f', 'INV1p45g', 'INV1p45h', 'INV1p45i', 'INV1p45j', 'INV1p45k',\n",
        "                   'INV1p45l', 'INV1p45m', 'INV1p45n', 'INV1p45o', 'INV1p45p', 'INV1p45q'])  #base.drop seleciona a base sem as variáveis que estão como argumento\n",
        "#-------------------------------- Saída ---------------------------------------\n",
        "y = base.loc[:,'IndAuto'].astype(int)\n",
        "\n",
        "print('Total de amostras e variáveis:\\t', base.shape)\n",
        "print('Total de variáveis:\\t', X.shape)\n",
        "print('\\t', X)"
      ],
      "execution_count": null,
      "outputs": []
    },
    {
      "cell_type": "code",
      "metadata": {
        "id": "iADeIE17fDsl",
        "colab_type": "code",
        "colab": {
          "base_uri": "https://localhost:8080/",
          "height": 34
        },
        "outputId": "bb35c5d2-a7c9-4ae3-e9ca-6cdd1a2a9ad4"
      },
      "source": [
        "#Divisão dos dados em treino e teste\n",
        "#X_treino, X_teste, y_treino, y_teste = train_test_split(X, y, test_size=0.1, random_state=1)\n",
        "\n",
        "#Normalização dos dados\n",
        "#scaler = StandardScaler()\n",
        "#scaler.fit(X_treino)\n",
        "#X_treino = scaler.transform(X_treino)\n",
        "#X_teste = scaler.transform(X_teste)\n",
        "\n",
        "kf = KFold(n_splits=10)\n",
        "\n",
        "#print('Amostras para treino:\\t', len(X_treino))\n",
        "#print('Amostras para teste:\\t', len(X_teste))\n",
        "\n",
        "#print('train_indices:\\t', train_indices)\n",
        "#print('test_indices:\\t', test_indices)\n",
        "#for i in range(len(train_indices)):\n",
        "    #X_train = X[train_indices[i]]\n",
        "    #print(train_indices[177])\n",
        "print(train_indices[0])"
      ],
      "execution_count": null,
      "outputs": [
        {
          "output_type": "stream",
          "text": [
            "[ 176  177  178 ... 1754 1755 1756]\n"
          ],
          "name": "stdout"
        }
      ]
    },
    {
      "cell_type": "code",
      "metadata": {
        "id": "FCDb7L5AGb7H",
        "colab_type": "code",
        "colab": {
          "base_uri": "https://localhost:8080/",
          "height": 391
        },
        "outputId": "ad4c81c6-93f0-4620-f41b-0d3a2319bb8c"
      },
      "source": [
        "#MLP com 3 camadas com 30 neurônios cada, função de ativação: logística\n",
        "mlp = MLPClassifier(hidden_layer_sizes=(67), activation='logistic', max_iter=5000, verbose=False, solver='sgd') \n",
        "\n",
        "for train_indices, test_indices in kf.split(X):\n",
        "  mlp.fit(X[train_indices], y[train_indices])\n",
        "  print(mlp.score(X[test_indices], y[test_indices]))\n",
        "\n",
        "\n",
        "#Ajustando os dados de treinamento à rede\n",
        "#mlp.fit(X_treino, y_treino)\n",
        "\n",
        "#Predições\n",
        "#saidas = mlp.predict(X_teste)\n",
        "\n",
        "\n",
        "\n",
        "#print('--------------------------------------------------------------')\n",
        "#print('--------------------------------------------------------------')\n",
        "\n",
        "#print('Saída da rede:\\n', saidas)\n",
        "#print('--------------------------------------------------------------')\n",
        "#print('Saída desejada:\\n', y_teste)\n",
        "\n",
        "#print('--------------------------------------------------------------')\n",
        "#print('--------------------------------------------------------------')\n",
        "\n",
        "#print('Matriz de confusão:\\n', confusion_matrix(y_teste, saidas))\n",
        "#print('--------------------------------------------------------------')\n",
        "#print('Acurácia:\\t', accuracy_score(y_teste, saidas))\n",
        "#print('\\t', mlp)"
      ],
      "execution_count": null,
      "outputs": [
        {
          "output_type": "error",
          "ename": "KeyError",
          "evalue": "ignored",
          "traceback": [
            "\u001b[0;31m---------------------------------------------------------------------------\u001b[0m",
            "\u001b[0;31mKeyError\u001b[0m                                  Traceback (most recent call last)",
            "\u001b[0;32m<ipython-input-38-f75006dc4560>\u001b[0m in \u001b[0;36m<module>\u001b[0;34m()\u001b[0m\n\u001b[1;32m      3\u001b[0m \u001b[0;34m\u001b[0m\u001b[0m\n\u001b[1;32m      4\u001b[0m \u001b[0;32mfor\u001b[0m \u001b[0mtrain_indices\u001b[0m\u001b[0;34m,\u001b[0m \u001b[0mtest_indices\u001b[0m \u001b[0;32min\u001b[0m \u001b[0mkf\u001b[0m\u001b[0;34m.\u001b[0m\u001b[0msplit\u001b[0m\u001b[0;34m(\u001b[0m\u001b[0mX\u001b[0m\u001b[0;34m)\u001b[0m\u001b[0;34m:\u001b[0m\u001b[0;34m\u001b[0m\u001b[0;34m\u001b[0m\u001b[0m\n\u001b[0;32m----> 5\u001b[0;31m   \u001b[0mmlp\u001b[0m\u001b[0;34m.\u001b[0m\u001b[0mfit\u001b[0m\u001b[0;34m(\u001b[0m\u001b[0mX\u001b[0m\u001b[0;34m[\u001b[0m\u001b[0mtrain_indices\u001b[0m\u001b[0;34m]\u001b[0m\u001b[0;34m,\u001b[0m \u001b[0my\u001b[0m\u001b[0;34m[\u001b[0m\u001b[0mtrain_indices\u001b[0m\u001b[0;34m]\u001b[0m\u001b[0;34m)\u001b[0m\u001b[0;34m\u001b[0m\u001b[0;34m\u001b[0m\u001b[0m\n\u001b[0m\u001b[1;32m      6\u001b[0m   \u001b[0mprint\u001b[0m\u001b[0;34m(\u001b[0m\u001b[0mmlp\u001b[0m\u001b[0;34m.\u001b[0m\u001b[0mscore\u001b[0m\u001b[0;34m(\u001b[0m\u001b[0mX\u001b[0m\u001b[0;34m[\u001b[0m\u001b[0mtest_indices\u001b[0m\u001b[0;34m]\u001b[0m\u001b[0;34m,\u001b[0m \u001b[0my\u001b[0m\u001b[0;34m[\u001b[0m\u001b[0mtest_indices\u001b[0m\u001b[0;34m]\u001b[0m\u001b[0;34m)\u001b[0m\u001b[0;34m)\u001b[0m\u001b[0;34m\u001b[0m\u001b[0;34m\u001b[0m\u001b[0m\n\u001b[1;32m      7\u001b[0m \u001b[0;34m\u001b[0m\u001b[0m\n",
            "\u001b[0;32m/usr/local/lib/python3.6/dist-packages/pandas/core/frame.py\u001b[0m in \u001b[0;36m__getitem__\u001b[0;34m(self, key)\u001b[0m\n\u001b[1;32m   2804\u001b[0m             \u001b[0;32mif\u001b[0m \u001b[0mis_iterator\u001b[0m\u001b[0;34m(\u001b[0m\u001b[0mkey\u001b[0m\u001b[0;34m)\u001b[0m\u001b[0;34m:\u001b[0m\u001b[0;34m\u001b[0m\u001b[0;34m\u001b[0m\u001b[0m\n\u001b[1;32m   2805\u001b[0m                 \u001b[0mkey\u001b[0m \u001b[0;34m=\u001b[0m \u001b[0mlist\u001b[0m\u001b[0;34m(\u001b[0m\u001b[0mkey\u001b[0m\u001b[0;34m)\u001b[0m\u001b[0;34m\u001b[0m\u001b[0;34m\u001b[0m\u001b[0m\n\u001b[0;32m-> 2806\u001b[0;31m             \u001b[0mindexer\u001b[0m \u001b[0;34m=\u001b[0m \u001b[0mself\u001b[0m\u001b[0;34m.\u001b[0m\u001b[0mloc\u001b[0m\u001b[0;34m.\u001b[0m\u001b[0m_get_listlike_indexer\u001b[0m\u001b[0;34m(\u001b[0m\u001b[0mkey\u001b[0m\u001b[0;34m,\u001b[0m \u001b[0maxis\u001b[0m\u001b[0;34m=\u001b[0m\u001b[0;36m1\u001b[0m\u001b[0;34m,\u001b[0m \u001b[0mraise_missing\u001b[0m\u001b[0;34m=\u001b[0m\u001b[0;32mTrue\u001b[0m\u001b[0;34m)\u001b[0m\u001b[0;34m[\u001b[0m\u001b[0;36m1\u001b[0m\u001b[0;34m]\u001b[0m\u001b[0;34m\u001b[0m\u001b[0;34m\u001b[0m\u001b[0m\n\u001b[0m\u001b[1;32m   2807\u001b[0m \u001b[0;34m\u001b[0m\u001b[0m\n\u001b[1;32m   2808\u001b[0m         \u001b[0;31m# take() does not accept boolean indexers\u001b[0m\u001b[0;34m\u001b[0m\u001b[0;34m\u001b[0m\u001b[0;34m\u001b[0m\u001b[0m\n",
            "\u001b[0;32m/usr/local/lib/python3.6/dist-packages/pandas/core/indexing.py\u001b[0m in \u001b[0;36m_get_listlike_indexer\u001b[0;34m(self, key, axis, raise_missing)\u001b[0m\n\u001b[1;32m   1551\u001b[0m \u001b[0;34m\u001b[0m\u001b[0m\n\u001b[1;32m   1552\u001b[0m         self._validate_read_indexer(\n\u001b[0;32m-> 1553\u001b[0;31m             \u001b[0mkeyarr\u001b[0m\u001b[0;34m,\u001b[0m \u001b[0mindexer\u001b[0m\u001b[0;34m,\u001b[0m \u001b[0mo\u001b[0m\u001b[0;34m.\u001b[0m\u001b[0m_get_axis_number\u001b[0m\u001b[0;34m(\u001b[0m\u001b[0maxis\u001b[0m\u001b[0;34m)\u001b[0m\u001b[0;34m,\u001b[0m \u001b[0mraise_missing\u001b[0m\u001b[0;34m=\u001b[0m\u001b[0mraise_missing\u001b[0m\u001b[0;34m\u001b[0m\u001b[0;34m\u001b[0m\u001b[0m\n\u001b[0m\u001b[1;32m   1554\u001b[0m         )\n\u001b[1;32m   1555\u001b[0m         \u001b[0;32mreturn\u001b[0m \u001b[0mkeyarr\u001b[0m\u001b[0;34m,\u001b[0m \u001b[0mindexer\u001b[0m\u001b[0;34m\u001b[0m\u001b[0;34m\u001b[0m\u001b[0m\n",
            "\u001b[0;32m/usr/local/lib/python3.6/dist-packages/pandas/core/indexing.py\u001b[0m in \u001b[0;36m_validate_read_indexer\u001b[0;34m(self, key, indexer, axis, raise_missing)\u001b[0m\n\u001b[1;32m   1638\u001b[0m             \u001b[0;32mif\u001b[0m \u001b[0mmissing\u001b[0m \u001b[0;34m==\u001b[0m \u001b[0mlen\u001b[0m\u001b[0;34m(\u001b[0m\u001b[0mindexer\u001b[0m\u001b[0;34m)\u001b[0m\u001b[0;34m:\u001b[0m\u001b[0;34m\u001b[0m\u001b[0;34m\u001b[0m\u001b[0m\n\u001b[1;32m   1639\u001b[0m                 \u001b[0maxis_name\u001b[0m \u001b[0;34m=\u001b[0m \u001b[0mself\u001b[0m\u001b[0;34m.\u001b[0m\u001b[0mobj\u001b[0m\u001b[0;34m.\u001b[0m\u001b[0m_get_axis_name\u001b[0m\u001b[0;34m(\u001b[0m\u001b[0maxis\u001b[0m\u001b[0;34m)\u001b[0m\u001b[0;34m\u001b[0m\u001b[0;34m\u001b[0m\u001b[0m\n\u001b[0;32m-> 1640\u001b[0;31m                 \u001b[0;32mraise\u001b[0m \u001b[0mKeyError\u001b[0m\u001b[0;34m(\u001b[0m\u001b[0;34mf\"None of [{key}] are in the [{axis_name}]\"\u001b[0m\u001b[0;34m)\u001b[0m\u001b[0;34m\u001b[0m\u001b[0;34m\u001b[0m\u001b[0m\n\u001b[0m\u001b[1;32m   1641\u001b[0m \u001b[0;34m\u001b[0m\u001b[0m\n\u001b[1;32m   1642\u001b[0m             \u001b[0;31m# We (temporarily) allow for some missing keys with .loc, except in\u001b[0m\u001b[0;34m\u001b[0m\u001b[0;34m\u001b[0m\u001b[0;34m\u001b[0m\u001b[0m\n",
            "\u001b[0;31mKeyError\u001b[0m: \"None of [Int64Index([ 176,  177,  178,  179,  180,  181,  182,  183,  184,  185,\\n            ...\\n            1747, 1748, 1749, 1750, 1751, 1752, 1753, 1754, 1755, 1756],\\n           dtype='int64', length=1581)] are in the [columns]\""
          ]
        }
      ]
    }
  ]
}