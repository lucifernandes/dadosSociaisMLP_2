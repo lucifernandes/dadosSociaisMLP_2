{
  "nbformat": 4,
  "nbformat_minor": 0,
  "metadata": {
    "colab": {
      "name": "RN - MLP.ipynb",
      "provenance": [],
      "mount_file_id": "1NLBf6BMRhibH1I3S8vne3Xdvld6u3FUp",
      "authorship_tag": "ABX9TyOAZ45b3bRthOjA7wia4XCp",
      "include_colab_link": true
    },
    "kernelspec": {
      "name": "python3",
      "display_name": "Python 3"
    }
  },
  "cells": [
    {
      "cell_type": "markdown",
      "metadata": {
        "id": "view-in-github",
        "colab_type": "text"
      },
      "source": [
        "<a href=\"https://colab.research.google.com/github/lucifernandes/dadosSociaisMLP_2/blob/master/RN_MLP.ipynb\" target=\"_parent\"><img src=\"https://colab.research.google.com/assets/colab-badge.svg\" alt=\"Open In Colab\"/></a>"
      ]
    },
    {
      "cell_type": "markdown",
      "metadata": {
        "id": "hwWW43T0g7dq",
        "colab_type": "text"
      },
      "source": [
        "## Pré-processamento"
      ]
    },
    {
      "cell_type": "code",
      "metadata": {
        "id": "sAHAnDcUO111",
        "colab_type": "code",
        "colab": {
          "base_uri": "https://localhost:8080/",
          "height": 51
        },
        "outputId": "2587d8b2-ae66-4ebb-99de-655560542683"
      },
      "source": [
        "import pandas as pd\n",
        "base = pd.read_csv('/content/drive/My Drive/Bases/base_v01.csv', sep=',', decimal=',')\n",
        "base = base.dropna(how=\"any\") \n",
        "base = base.reset_index(drop=True)\n",
        "base.head(20)\n",
        "\n",
        "#------------------------------- índice Autoritarismo ------------------------------------------------\n",
        "#Sentenças do 4º bloco do questionário\n",
        "baseI = base.iloc[:, 68:85]  \n",
        "#Adicionando à base a coluna 'IndAuto' com os valores dos índices de cada amostra                   \n",
        "A = baseI.mean(axis=1)\n",
        "\n",
        "#Cálculo do índice médio  \n",
        "mediana = A.median()\n",
        "#Para valores abaixo ou igual a média, recebem valor 0. Para valores acima da média, recebem valor 1\n",
        "A = A.values\n",
        "print(mediana)\n",
        "\n",
        "for i in range(1757):\n",
        "  if A[i] < mediana:\n",
        "    A[i] = 0\n",
        "  else:\n",
        "    A[i] = 1\n",
        "\n",
        "base['IndAuto'] = A\n",
        "\n",
        "base['IndAuto'] = (base['IndAuto']).astype(int)\n",
        "base['renda'] = (base['renda']).astype(int)\n",
        "#base.groupby(by='IndAuto').size()\n",
        "#print(baseI.mean(axis=1))\n",
        "\n",
        "previsores = base.iloc[:, 0:68].values\n",
        "classe = base.iloc[:, 85].values\n",
        "\n",
        "#from sklearn.preprocessing import StandardScaler\n",
        "#scaler = StandardScaler() #Padronização\n",
        "#previsores = scaler.fit_transform(previsores)\n",
        "\n",
        "#from sklearn.preprocessing import MinMaxScaler\n",
        "#scaler = MinMaxScaler()\n",
        "#previsores = scaler.fit_transform(previsores)\n",
        "print(len(previsores))"
      ],
      "execution_count": null,
      "outputs": [
        {
          "output_type": "stream",
          "text": [
            "4.411764705882353\n",
            "1757\n"
          ],
          "name": "stdout"
        }
      ]
    },
    {
      "cell_type": "code",
      "metadata": {
        "id": "kuzaFQElqvkj",
        "colab_type": "code",
        "colab": {}
      },
      "source": [
        "previsores.head()"
      ],
      "execution_count": null,
      "outputs": []
    },
    {
      "cell_type": "markdown",
      "metadata": {
        "id": "HNT6Z_YrgnT1",
        "colab_type": "text"
      },
      "source": [
        "## Abordagem Validação Cruzada"
      ]
    },
    {
      "cell_type": "code",
      "metadata": {
        "id": "AlINW90HgvN2",
        "colab_type": "code",
        "colab": {}
      },
      "source": [
        "import numpy as np\n",
        "#a = np.zeros(5)\n",
        "#b = np.zeros(shape=(previsores.shape[0], 1))\n",
        "\n",
        "from sklearn.model_selection import StratifiedKFold\n",
        "from sklearn.linear_model import Perceptron\n",
        "from sklearn.neural_network import MLPClassifier\n",
        "from sklearn.metrics import accuracy_score\n",
        "\n",
        "resultados20 = []\n",
        "for i in range(20):\n",
        "  kfold = StratifiedKFold(n_splits = 10, shuffle = True, random_state = i)\n",
        "  resultados1 = []\n",
        "\n",
        "  for indice_treinamento, indice_teste in kfold.split(previsores,\n",
        "                                                        np.zeros(shape=(previsores.shape[0], 1))):\n",
        "    #Classificador\n",
        "    #classificador = Perceptron(max_iter=1000, tol=1e-4, n_iter_no_change=30, random_state=i) #Perceptron\n",
        "    classificador = MLPClassifier(hidden_layer_sizes=(35), max_iter=1000, activation='logistic', #MLP\n",
        "                                  solver='adam', n_iter_no_change=30)\n",
        "    \n",
        "    classificador.fit(previsores[indice_treinamento], classe[indice_treinamento]) \n",
        "    \n",
        "    previsoes = classificador.predict(previsores[indice_teste])\n",
        "    precisao = accuracy_score(classe[indice_teste], previsoes)\n",
        "    resultados1.append(precisao)\n",
        "\n",
        "  resultados1 = np.asarray(resultados1)\n",
        "  media = resultados1.mean()\n",
        "  resultados20.append(media)\n",
        "\n",
        "  print(str(media).replace('.', ','))\n",
        " \n",
        "\n",
        "  #resultados20 = np.asarray(resultados30)\n",
        "\n",
        "#for i in range(20):\n",
        "   # print(str(resultados20[i]).replace('.', ','))\n",
        "\n",
        "#print('Acurácia:\\t', resultados20.mean())\n",
        "#print(media)"
      ],
      "execution_count": null,
      "outputs": []
    },
    {
      "cell_type": "markdown",
      "metadata": {
        "id": "S8stvwO7gehz",
        "colab_type": "text"
      },
      "source": [
        "## Abordagem Hold out"
      ]
    },
    {
      "cell_type": "markdown",
      "metadata": {
        "id": "-I9FcWtVjm5I",
        "colab_type": "text"
      },
      "source": [
        "### PCA"
      ]
    },
    {
      "cell_type": "code",
      "metadata": {
        "id": "_uwQsxIjjoo4",
        "colab_type": "code",
        "colab": {}
      },
      "source": [
        "resultados20 = []\n",
        "for i in range(20):\n",
        "  from sklearn.model_selection import train_test_split\n",
        "  previsores_treinamento, previsores_teste, classe_treinamento, classe_teste = train_test_split(previsores, classe, test_size=0.1, random_state=0)\n",
        "\n",
        "  from sklearn.decomposition import PCA\n",
        "  pca = PCA(n_components = 40)\n",
        "  previsores_treinamento = pca.fit_transform(previsores_treinamento)\n",
        "  previsores_teste = pca.transform(previsores_teste)\n",
        "  componentes = pca.explained_variance_ratio_\n",
        "  #print(componentes.sum())\n",
        "  #print(len(componentes))\n",
        "\n",
        "  from sklearn.linear_model import Perceptron\n",
        "  from sklearn.neural_network import MLPClassifier\n",
        "  #Classificador\n",
        "  #classificador = Perceptron(max_iter=1000, tol=1e-4, n_iter_no_change=30, random_state=i) #Perceptron\n",
        "  classificador = MLPClassifier(hidden_layer_sizes=(35), max_iter=1000, activation='logistic', #MLP\n",
        "                                  solver='sgd', n_iter_no_change=30)\n",
        "\n",
        "  classificador.fit(previsores_treinamento, classe_treinamento)\n",
        "  previsoes = classificador.predict(previsores_teste)\n",
        "\n",
        "  from sklearn.metrics import confusion_matrix, accuracy_score\n",
        "  precisao = accuracy_score(classe_teste, previsoes)\n",
        "  matriz = confusion_matrix(classe_teste, previsoes)\n",
        "  #print(precisao)\n",
        "  resultados20.append(precisao)\n",
        "\n",
        "for i in range(20):\n",
        "  print(str(resultados20[i]).replace('.', ','))\n"
      ],
      "execution_count": null,
      "outputs": []
    },
    {
      "cell_type": "markdown",
      "metadata": {
        "id": "TyXFTNcOhGby",
        "colab_type": "text"
      },
      "source": [
        "### Sem PCA"
      ]
    },
    {
      "cell_type": "code",
      "metadata": {
        "id": "HlwBL_y0qRGf",
        "colab_type": "code",
        "colab": {
          "base_uri": "https://localhost:8080/",
          "height": 357
        },
        "outputId": "558003c3-5122-44a9-9889-1e83d9840b21"
      },
      "source": [
        "resultados20 = []\n",
        "for i in range(20):\n",
        "  from sklearn.model_selection import train_test_split\n",
        "  previsores_treinamento, previsores_teste, classe_treinamento, classe_teste = train_test_split(previsores, classe, test_size=0.10, random_state=i)\n",
        "      #print(previsores_teste)\n",
        "\n",
        "  from sklearn.linear_model import Perceptron\n",
        "  from sklearn.neural_network import MLPClassifier\n",
        "      #Classificador\n",
        "  #classificador = Perceptron(max_iter=5000, tol=1e-4, n_iter_no_change=30, random_state=i) #Perceptron\n",
        "  classificador = MLPClassifier(hidden_layer_sizes=(35), max_iter=2500, activation='identity', #MLP\n",
        "                                  solver='sgd', n_iter_no_change=30, beta_1=0.999, learning_rate='adaptive', learning_rate_init=0.01 )\n",
        "\n",
        "  classificador.fit(previsores_treinamento, classe_treinamento)\n",
        "  previsoes = classificador.predict(previsores_teste)\n",
        "\n",
        "  from sklearn.metrics import confusion_matrix, accuracy_score\n",
        "  precisao = accuracy_score(classe_teste, previsoes)\n",
        "  matriz = confusion_matrix(classe_teste, previsoes)\n",
        "    #print(precisao)\n",
        "    #print(previsoes)\n",
        "\n",
        "  resultados20.append(precisao)\n",
        "  #print(str(precisao).replace('.', ','))\n",
        "\n",
        "for i in range(20):\n",
        "  print(str(resultados20[i]).replace('.', ','))\n",
        "\n",
        "#print(precisao)\n"
      ],
      "execution_count": null,
      "outputs": [
        {
          "output_type": "stream",
          "text": [
            "0,7045454545454546\n",
            "0,6306818181818182\n",
            "0,6136363636363636\n",
            "0,6420454545454546\n",
            "0,6590909090909091\n",
            "0,5852272727272727\n",
            "0,5625\n",
            "0,625\n",
            "0,6534090909090909\n",
            "0,6079545454545454\n",
            "0,6306818181818182\n",
            "0,6704545454545454\n",
            "0,7159090909090909\n",
            "0,5738636363636364\n",
            "0,5625\n",
            "0,6022727272727273\n",
            "0,625\n",
            "0,6477272727272727\n",
            "0,6079545454545454\n",
            "0,5909090909090909\n"
          ],
          "name": "stdout"
        }
      ]
    }
  ]
}